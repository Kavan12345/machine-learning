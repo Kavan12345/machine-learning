{
 "cells": [
  {
   "cell_type": "markdown",
   "metadata": {},
   "source": [
    "# Neural network for regression : data  real estate for Housing data \n"
   ]
  },
  {
   "cell_type": "markdown",
   "metadata": {},
   "source": [
    "## Dataset : Housing Price (real estate)"
   ]
  },
  {
   "cell_type": "markdown",
   "metadata": {},
   "source": [
    "### Response variable is numeric hence use regression algoritm of Neural network"
   ]
  },
  {
   "cell_type": "code",
   "execution_count": 6,
   "metadata": {},
   "outputs": [
    {
     "data": {
      "text/html": [
       "<div>\n",
       "<style scoped>\n",
       "    .dataframe tbody tr th:only-of-type {\n",
       "        vertical-align: middle;\n",
       "    }\n",
       "\n",
       "    .dataframe tbody tr th {\n",
       "        vertical-align: top;\n",
       "    }\n",
       "\n",
       "    .dataframe thead th {\n",
       "        text-align: right;\n",
       "    }\n",
       "</style>\n",
       "<table border=\"1\" class=\"dataframe\">\n",
       "  <thead>\n",
       "    <tr style=\"text-align: right;\">\n",
       "      <th></th>\n",
       "      <th>lotsize</th>\n",
       "      <th>bedrooms</th>\n",
       "      <th>bathrms</th>\n",
       "      <th>stories</th>\n",
       "      <th>garagepl</th>\n",
       "      <th>driveway_yes</th>\n",
       "      <th>recroom_yes</th>\n",
       "      <th>fullbase_yes</th>\n",
       "      <th>gashw_yes</th>\n",
       "      <th>airco_yes</th>\n",
       "    </tr>\n",
       "  </thead>\n",
       "  <tbody>\n",
       "    <tr>\n",
       "      <th>0</th>\n",
       "      <td>5850</td>\n",
       "      <td>3</td>\n",
       "      <td>1</td>\n",
       "      <td>2</td>\n",
       "      <td>1</td>\n",
       "      <td>1</td>\n",
       "      <td>0</td>\n",
       "      <td>1</td>\n",
       "      <td>0</td>\n",
       "      <td>0</td>\n",
       "    </tr>\n",
       "    <tr>\n",
       "      <th>1</th>\n",
       "      <td>4000</td>\n",
       "      <td>2</td>\n",
       "      <td>1</td>\n",
       "      <td>1</td>\n",
       "      <td>0</td>\n",
       "      <td>1</td>\n",
       "      <td>0</td>\n",
       "      <td>0</td>\n",
       "      <td>0</td>\n",
       "      <td>0</td>\n",
       "    </tr>\n",
       "    <tr>\n",
       "      <th>2</th>\n",
       "      <td>3060</td>\n",
       "      <td>3</td>\n",
       "      <td>1</td>\n",
       "      <td>1</td>\n",
       "      <td>0</td>\n",
       "      <td>1</td>\n",
       "      <td>0</td>\n",
       "      <td>0</td>\n",
       "      <td>0</td>\n",
       "      <td>0</td>\n",
       "    </tr>\n",
       "    <tr>\n",
       "      <th>3</th>\n",
       "      <td>6650</td>\n",
       "      <td>3</td>\n",
       "      <td>1</td>\n",
       "      <td>2</td>\n",
       "      <td>0</td>\n",
       "      <td>1</td>\n",
       "      <td>1</td>\n",
       "      <td>0</td>\n",
       "      <td>0</td>\n",
       "      <td>0</td>\n",
       "    </tr>\n",
       "    <tr>\n",
       "      <th>4</th>\n",
       "      <td>6360</td>\n",
       "      <td>2</td>\n",
       "      <td>1</td>\n",
       "      <td>1</td>\n",
       "      <td>0</td>\n",
       "      <td>1</td>\n",
       "      <td>0</td>\n",
       "      <td>0</td>\n",
       "      <td>0</td>\n",
       "      <td>0</td>\n",
       "    </tr>\n",
       "  </tbody>\n",
       "</table>\n",
       "</div>"
      ],
      "text/plain": [
       "   lotsize  bedrooms  bathrms  stories  garagepl  driveway_yes  recroom_yes  \\\n",
       "0     5850         3        1        2         1             1            0   \n",
       "1     4000         2        1        1         0             1            0   \n",
       "2     3060         3        1        1         0             1            0   \n",
       "3     6650         3        1        2         0             1            1   \n",
       "4     6360         2        1        1         0             1            0   \n",
       "\n",
       "   fullbase_yes  gashw_yes  airco_yes  \n",
       "0             1          0          0  \n",
       "1             0          0          0  \n",
       "2             0          0          0  \n",
       "3             0          0          0  \n",
       "4             0          0          0  "
      ]
     },
     "execution_count": 6,
     "metadata": {},
     "output_type": "execute_result"
    }
   ],
   "source": [
    "import numpy as np\n",
    "import pandas as pd\n",
    "\n",
    "df = pd.read_csv(\"E:/class/R _Cource/dataset class/cases data folder/Cases/Real Estate/Housing.csv\")\n",
    "\n",
    "dum_df = pd.get_dummies(df.iloc[:,1:11], drop_first=True)\n",
    "dum_df.head()\n"
   ]
  },
  {
   "cell_type": "code",
   "execution_count": 7,
   "metadata": {},
   "outputs": [],
   "source": [
    "from sklearn.model_selection import train_test_split \n",
    "from sklearn.neural_network import MLPRegressor"
   ]
  },
  {
   "cell_type": "code",
   "execution_count": 8,
   "metadata": {},
   "outputs": [
    {
     "name": "stderr",
     "output_type": "stream",
     "text": [
      "C:\\Users\\kavan\\Anaconda3\\lib\\site-packages\\sklearn\\neural_network\\multilayer_perceptron.py:562: ConvergenceWarning: Stochastic Optimizer: Maximum iterations (200) reached and the optimization hasn't converged yet.\n",
      "  % self.max_iter, ConvergenceWarning)\n"
     ]
    },
    {
     "data": {
      "text/plain": [
       "array([ 6359.0278157 ,  3989.37589987,  4996.32833102,  6099.45187074,\n",
       "        7197.72436886,  6598.07251489,  8246.62361262,  6360.32859471,\n",
       "        6797.83725871,  4040.4018355 ,  3361.1349573 ,  7798.04337055,\n",
       "        7796.60739612,  3519.83730157,  2501.82859136,  5680.34019043,\n",
       "        8996.70886851,  5999.89111602,  7157.803099  , 11170.21712636,\n",
       "        4989.65306115,  5017.79470401,  4896.76653847,  5397.79976579,\n",
       "        8798.74693325,  7083.06188956,  4000.38682641,  5399.8894979 ,\n",
       "        5500.11841241,  6098.59006717,  3480.67459076,  6448.75673637,\n",
       "        6415.61375037,  6357.45101346,  2135.45275002,  5998.82517113,\n",
       "        7149.75775339,  4519.99302142,  5998.9399098 ,  3001.79036421,\n",
       "        5500.51944932,  3001.48521416,  4411.65916858,  3959.40535104,\n",
       "        6898.62110206, 10494.78560522,  5897.236861  ,  5957.92094039,\n",
       "        3569.43963478,  8959.71247065,  4040.4018355 ,  8078.34037809,\n",
       "        4119.44020709,  2871.13685744,  6823.59118897,  3969.04695248,\n",
       "        5699.87491541,  4077.26050504,  4992.96714843,  3090.82573644,\n",
       "        3000.53971753,  5493.57787423,  6996.07238406,  7418.60826984,\n",
       "        2145.15912395,  4500.04456786,  6599.39090188,  3449.55743947,\n",
       "        3098.18502731,  6861.42661454,  2879.7776071 ,  5998.6226233 ,\n",
       "        4749.84975549,  6349.31643589,  7348.03604882,  4999.87038417,\n",
       "        5999.70170192,  5167.64744815,  8147.65026607,  5198.64602   ,\n",
       "        8397.91816353,  8578.09298008,  3640.71250302,  5999.6600329 ,\n",
       "        4498.37917276,  2001.52142328,  6418.42013414,  3701.6019785 ,\n",
       "        3680.65202381,  3000.34778856,  3119.14725596,  5637.26002821,\n",
       "        5500.14360636,  3420.71533833,  6000.17981966,  6018.41106022,\n",
       "        3513.01690365,  3148.48452353,  6997.89241382,  6717.72386619,\n",
       "        3181.06977066,  7499.37608578,  4955.48768413,  3631.1994685 ,\n",
       "        9615.89249377,  2475.86318408,  4300.71552834,  3631.33342642,\n",
       "        5998.77325955,  5359.85583149,  2699.95431414,  3720.63091035,\n",
       "        4799.4266037 ,  6598.43857392,  3422.33990743,  4398.97340051,\n",
       "        6207.26212755,  3521.11673129,  2999.85173138,  6521.82376851,\n",
       "        6048.03302754,  5849.09210462,  3265.00453049,  3630.72026971,\n",
       "        4319.93522558,  2787.78949758,  5878.74042799,  3417.83560503,\n",
       "        3599.06349954,  5499.37953129,  3600.74356977,  5298.67780255,\n",
       "        3649.70967982,  3601.39983867,  6253.05624762,  5599.92757176,\n",
       "        5997.14723505,  8996.15773918,  3186.80322689,  3630.78447743,\n",
       "        3640.71250302,  7199.53986167,  5998.63324216,  7682.97127092,\n",
       "        3450.92676457,  5998.83245055,  6925.60249042,  1701.62400603,\n",
       "        8877.70532311,  6614.4172726 ,  5998.28342838,  5999.30741646,\n",
       "        3239.91297078,  6709.11391002,  3186.47586136,  4049.98792734,\n",
       "        3749.61150925,  6897.79559924,  4131.63663693,  4094.52181955,\n",
       "        7435.92550775,  3639.1789864 ,  6540.1172412 ,  2145.15912395])"
      ]
     },
     "execution_count": 8,
     "metadata": {},
     "output_type": "execute_result"
    }
   ],
   "source": [
    "#from sklearn.preprocessing import StandardScaler\n",
    "#scaler = StandardScaler()\n",
    "#dum_df = scaler.fit_transform(dum_df)   \n",
    "\n",
    "X = dum_df\n",
    "y = df.iloc[:,1]\n",
    "\n",
    "# Create training and test sets\n",
    "X_train, X_test, y_train, y_test = train_test_split(X, y,test_size = 0.3, \n",
    "                                                    random_state=2018)\n",
    "\n",
    "mlp = MLPRegressor(hidden_layer_sizes=(3,2,2),random_state=2018)\n",
    "mlp.fit( X_train , y_train )\n",
    "y_pred = mlp.predict(X_test)\n",
    "y_pred"
   ]
  },
  {
   "cell_type": "code",
   "execution_count": 9,
   "metadata": {},
   "outputs": [
    {
     "name": "stdout",
     "output_type": "stream",
     "text": [
      "3.0735862023703056\n",
      "1.3588349023639696\n",
      "0.9999991055325782\n"
     ]
    }
   ],
   "source": [
    "from sklearn.metrics import mean_squared_error,mean_absolute_error,r2_score\n",
    "print(mean_squared_error(y_test, y_pred))\n",
    "print(mean_absolute_error(y_test, y_pred))\n",
    "print(r2_score(y_test, y_pred))"
   ]
  },
  {
   "cell_type": "markdown",
   "metadata": {},
   "source": [
    "#### mean_squared_error=3.0735862023703056\n",
    "#### mean_absolute_error=1.3588349023639696\n",
    "#### r2_score=0.9999991055325782"
   ]
  }
 ],
 "metadata": {
  "kernelspec": {
   "display_name": "Python 3",
   "language": "python",
   "name": "python3"
  },
  "language_info": {
   "codemirror_mode": {
    "name": "ipython",
    "version": 3
   },
   "file_extension": ".py",
   "mimetype": "text/x-python",
   "name": "python",
   "nbconvert_exporter": "python",
   "pygments_lexer": "ipython3",
   "version": "3.6.8"
  }
 },
 "nbformat": 4,
 "nbformat_minor": 2
}
